{
 "cells": [
  {
   "cell_type": "markdown",
   "metadata": {},
   "source": [
    "<img style=\"float: left; margin: 30px 15px 15px 15px;\" src=\"https://pngimage.net/wp-content/uploads/2018/06/logo-iteso-png-5.png\" width=\"300\" height=\"500\" /> \n",
    "    \n",
    "    \n",
    "### <font color='navy'> Simulación de procesos financieros. \n",
    "\n",
    "**Nombres:** Marco Antonio Sánchez Covarrubias. Andrea Flores Fernandez.\n",
    "\n",
    "**Fecha:** 22 de Noviembre del 2021.\n",
    "\n",
    "**Expediente** : if720268. if725449.\n",
    "**Profesor:** Oscar David Jaramillo Zuluaga.\n",
    "    \n",
    "**Link Github**: https://github.com/MarcoSC08/Tarea8.1_MASanchez_AFlores\n",
    "\n",
    "# Tarea 8: Clase 22"
   ]
  },
  {
   "cell_type": "markdown",
   "metadata": {},
   "source": [
    "## Valoración de opciones tipo \"Put\"\n",
    "> Replicar el procedimiento anterior para valoración de opciones 'call', pero en este caso para opciones tipo 'put' y además deben de comparar con los resultados teoricos del método de valuación de Black-Scholes (ecuación del principio de clase)"
   ]
  },
  {
   "cell_type": "markdown",
   "metadata": {},
   "source": [
    "### Ejercicio 1: $$ P(S(t),t)=max\\{K-S(T),0\\} \\rightarrow \\text{En el caso de Put}$$ "
   ]
  },
  {
   "cell_type": "markdown",
   "metadata": {},
   "source": [
    "#### Solución estudiante 1"
   ]
  },
  {
   "cell_type": "code",
   "execution_count": 82,
   "metadata": {},
   "outputs": [],
   "source": [
    "#importar los paquetes que se van a usar\n",
    "import pandas as pd\n",
    "import pandas_datareader.data as web\n",
    "import numpy as np\n",
    "import datetime\n",
    "import matplotlib.pyplot as plt\n",
    "import scipy.stats as st\n",
    "import seaborn as sns\n",
    "%matplotlib inline\n",
    "#algunas opciones para Pandas\n",
    "pd.set_option('display.notebook_repr_html', True)\n",
    "pd.set_option('display.max_columns', 6)\n",
    "pd.set_option('display.max_rows', 10)\n",
    "pd.set_option('display.width', 78)\n",
    "pd.set_option('precision', 3)"
   ]
  },
  {
   "cell_type": "code",
   "execution_count": 83,
   "metadata": {},
   "outputs": [],
   "source": [
    "from datetime import date"
   ]
  },
  {
   "cell_type": "code",
   "execution_count": 84,
   "metadata": {},
   "outputs": [],
   "source": [
    "from scipy.stats import norm"
   ]
  },
  {
   "cell_type": "code",
   "execution_count": 86,
   "metadata": {},
   "outputs": [
    {
     "data": {
      "text/html": [
       "<div>\n",
       "<style scoped>\n",
       "    .dataframe tbody tr th:only-of-type {\n",
       "        vertical-align: middle;\n",
       "    }\n",
       "\n",
       "    .dataframe tbody tr th {\n",
       "        vertical-align: top;\n",
       "    }\n",
       "\n",
       "    .dataframe thead th {\n",
       "        text-align: right;\n",
       "    }\n",
       "</style>\n",
       "<table border=\"1\" class=\"dataframe\">\n",
       "  <thead>\n",
       "    <tr style=\"text-align: right;\">\n",
       "      <th></th>\n",
       "      <th>Open</th>\n",
       "      <th>High</th>\n",
       "      <th>Low</th>\n",
       "      <th>Close</th>\n",
       "      <th>Volume</th>\n",
       "    </tr>\n",
       "    <tr>\n",
       "      <th>Date</th>\n",
       "      <th></th>\n",
       "      <th></th>\n",
       "      <th></th>\n",
       "      <th></th>\n",
       "      <th></th>\n",
       "    </tr>\n",
       "  </thead>\n",
       "  <tbody>\n",
       "    <tr>\n",
       "      <th>2021-11-23</th>\n",
       "      <td>161.120</td>\n",
       "      <td>161.80</td>\n",
       "      <td>159.060</td>\n",
       "      <td>161.41</td>\n",
       "      <td>95861538</td>\n",
       "    </tr>\n",
       "    <tr>\n",
       "      <th>2021-11-22</th>\n",
       "      <td>161.680</td>\n",
       "      <td>165.70</td>\n",
       "      <td>161.000</td>\n",
       "      <td>161.02</td>\n",
       "      <td>117467889</td>\n",
       "    </tr>\n",
       "    <tr>\n",
       "      <th>2021-11-19</th>\n",
       "      <td>157.650</td>\n",
       "      <td>161.02</td>\n",
       "      <td>156.533</td>\n",
       "      <td>160.55</td>\n",
       "      <td>117305597</td>\n",
       "    </tr>\n",
       "    <tr>\n",
       "      <th>2021-11-18</th>\n",
       "      <td>153.710</td>\n",
       "      <td>158.67</td>\n",
       "      <td>153.050</td>\n",
       "      <td>157.87</td>\n",
       "      <td>137827673</td>\n",
       "    </tr>\n",
       "    <tr>\n",
       "      <th>2021-11-17</th>\n",
       "      <td>150.995</td>\n",
       "      <td>155.00</td>\n",
       "      <td>150.990</td>\n",
       "      <td>153.49</td>\n",
       "      <td>88807000</td>\n",
       "    </tr>\n",
       "  </tbody>\n",
       "</table>\n",
       "</div>"
      ],
      "text/plain": [
       "               Open    High      Low   Close     Volume\n",
       "Date                                                   \n",
       "2021-11-23  161.120  161.80  159.060  161.41   95861538\n",
       "2021-11-22  161.680  165.70  161.000  161.02  117467889\n",
       "2021-11-19  157.650  161.02  156.533  160.55  117305597\n",
       "2021-11-18  153.710  158.67  153.050  157.87  137827673\n",
       "2021-11-17  150.995  155.00  150.990  153.49   88807000"
      ]
     },
     "execution_count": 86,
     "metadata": {},
     "output_type": "execute_result"
    }
   ],
   "source": [
    "from datetime import datetime\n",
    "ticker = 'AAPL'\n",
    "source = 'stooq'\n",
    "start = '2017-01-01'\n",
    "end = datetime.today()\n",
    "aapl_goo = web.DataReader(ticker, source, start=start)\n",
    "aapl_goo.head()"
   ]
  },
  {
   "cell_type": "code",
   "execution_count": 87,
   "metadata": {},
   "outputs": [],
   "source": [
    "# Función para descargar precios de cierre ajustados:\n",
    "def get_adj_closes(tickers, start_date=None, end_date=None):\n",
    "    # Fecha inicio por defecto (start_date='2010-01-01') y fecha fin por defecto (end_date=today)\n",
    "    # Descargamos DataFrame con todos los datos\n",
    "    closes = web.DataReader(name=tickers, data_source='yahoo', start=start_date, end=end_date)\n",
    "    # Solo necesitamos los precios ajustados en el cierre\n",
    "    closes = closes['Adj Close']\n",
    "    # Se ordenan los índices de manera ascendente\n",
    "    closes.sort_index(inplace=True)\n",
    "    return closes"
   ]
  },
  {
   "cell_type": "code",
   "execution_count": 88,
   "metadata": {},
   "outputs": [
    {
     "data": {
      "image/png": "[encoded data removed]",
      "text/plain": [
       "<Figure size 576x360 with 1 Axes>"
      ]
     },
     "metadata": {
      "needs_background": "light"
     },
     "output_type": "display_data"
    }
   ],
   "source": [
    "ticker = ['AAPL']\n",
    "start_date = '2017-01-01'\n",
    "\n",
    "closes_aapl = get_adj_closes(ticker, start_date)\n",
    "closes_aapl.plot(figsize=(8,5));\n",
    "plt.legend(ticker);"
   ]
  },
  {
   "cell_type": "code",
   "execution_count": 89,
   "metadata": {},
   "outputs": [],
   "source": [
    "def calc_daily_ret(closes):\n",
    "    return np.log(closes/closes.shift(1)).iloc[1:]"
   ]
  },
  {
   "cell_type": "code",
   "execution_count": 90,
   "metadata": {},
   "outputs": [
    {
     "data": {
      "image/png": "[encoded data removed]",
      "text/plain": [
       "<Figure size 576x432 with 1 Axes>"
      ]
     },
     "metadata": {
      "needs_background": "light"
     },
     "output_type": "display_data"
    }
   ],
   "source": [
    "ret_aapl = calc_daily_ret(closes_aapl)\n",
    "ret_aapl.plot(figsize=(8,6));"
   ]
  },
  {
   "cell_type": "code",
   "execution_count": 92,
   "metadata": {},
   "outputs": [
    {
     "data": {
      "text/html": [
       "<div>\n",
       "<style scoped>\n",
       "    .dataframe tbody tr th:only-of-type {\n",
       "        vertical-align: middle;\n",
       "    }\n",
       "\n",
       "    .dataframe tbody tr th {\n",
       "        vertical-align: top;\n",
       "    }\n",
       "\n",
       "    .dataframe thead th {\n",
       "        text-align: right;\n",
       "    }\n",
       "</style>\n",
       "<table border=\"1\" class=\"dataframe\">\n",
       "  <thead>\n",
       "    <tr style=\"text-align: right;\">\n",
       "      <th>Symbols</th>\n",
       "      <th>AAPL</th>\n",
       "    </tr>\n",
       "    <tr>\n",
       "      <th>Date</th>\n",
       "      <th></th>\n",
       "    </tr>\n",
       "  </thead>\n",
       "  <tbody>\n",
       "    <tr>\n",
       "      <th>2017-01-04</th>\n",
       "      <td>-0.001</td>\n",
       "    </tr>\n",
       "    <tr>\n",
       "      <th>2017-01-05</th>\n",
       "      <td>0.005</td>\n",
       "    </tr>\n",
       "    <tr>\n",
       "      <th>2017-01-06</th>\n",
       "      <td>0.011</td>\n",
       "    </tr>\n",
       "    <tr>\n",
       "      <th>2017-01-09</th>\n",
       "      <td>0.009</td>\n",
       "    </tr>\n",
       "    <tr>\n",
       "      <th>2017-01-10</th>\n",
       "      <td>0.001</td>\n",
       "    </tr>\n",
       "  </tbody>\n",
       "</table>\n",
       "</div>"
      ],
      "text/plain": [
       "Symbols      AAPL\n",
       "Date             \n",
       "2017-01-04 -0.001\n",
       "2017-01-05  0.005\n",
       "2017-01-06  0.011\n",
       "2017-01-09  0.009\n",
       "2017-01-10  0.001"
      ]
     },
     "execution_count": 92,
     "metadata": {},
     "output_type": "execute_result"
    }
   ],
   "source": [
    "# Obtenemos el rendimiento simple\n",
    "Ri = closes_aapl.pct_change(1).iloc[1:]\n",
    "# Obtenemos su media y desviación estándar de los rendimientos\n",
    "mu_R = Ri.mean()[0]\n",
    "sigma_R = Ri.std()[0]\n",
    "Ri.head()"
   ]
  },
  {
   "cell_type": "code",
   "execution_count": 93,
   "metadata": {},
   "outputs": [
    {
     "data": {
      "text/plain": [
       "(DatetimeIndex(['2021-11-23', '2021-11-24', '2021-11-25', '2021-11-26',\n",
       "                '2021-11-29', '2021-11-30', '2021-12-01', '2021-12-02',\n",
       "                '2021-12-03', '2021-12-06',\n",
       "                ...\n",
       "                '2022-09-05', '2022-09-06', '2022-09-07', '2022-09-08',\n",
       "                '2022-09-09', '2022-09-12', '2022-09-13', '2022-09-14',\n",
       "                '2022-09-15', '2022-09-16'],\n",
       "               dtype='datetime64[ns]', length=214, freq='B'),\n",
       " 214)"
      ]
     },
     "execution_count": 93,
     "metadata": {},
     "output_type": "execute_result"
    }
   ],
   "source": [
    "today = pd.Timestamp(date.today())\n",
    "expiry = '2022-09-16'\n",
    "\n",
    "nscen = 10000\n",
    "dates = pd.date_range(start = today, \n",
    "                      end = expiry, \n",
    "                      freq = 'B')\n",
    "ndays = len(dates)\n",
    "dates, ndays"
   ]
  },
  {
   "cell_type": "code",
   "execution_count": 94,
   "metadata": {},
   "outputs": [],
   "source": [
    "ri = calc_daily_ret(closes_aapl)\n",
    "#ri"
   ]
  },
  {
   "cell_type": "code",
   "execution_count": 95,
   "metadata": {},
   "outputs": [],
   "source": [
    "# Usando la media y desviación estándar de los rendimientos logarítmicos\n",
    "mu_r = ri.mean()[0]\n",
    "sigma_r = ri.std()[0]\n",
    "\n",
    "\n",
    "# Simulación del rendimiento \n",
    "dt = 1\n",
    "Z = np.random.randn(ndays,nscen) \n",
    "\n",
    "sim_ret_ri = pd.DataFrame(mu_r*dt+Z*sigma_r*np.sqrt(dt), index=dates)"
   ]
  },
  {
   "cell_type": "code",
   "execution_count": 96,
   "metadata": {},
   "outputs": [],
   "source": [
    "# Simulación normal de los rendimientos\n",
    "Ri_dt = pd.DataFrame(mu_R * dt + Z * sigma_r * np.sqrt(dt),\n",
    "                     index = dates)\n",
    "\n",
    "# Simulación del precio\n",
    "S_0 = closes_aapl.iloc[-1,0]\n",
    "S_T = S_0*np.exp(sim_ret_ri.cumsum())"
   ]
  },
  {
   "cell_type": "code",
   "execution_count": 97,
   "metadata": {},
   "outputs": [
    {
     "data": {
      "text/plain": [
       "(0.001441454784210329, 0.019197989267075104)"
      ]
     },
     "execution_count": 97,
     "metadata": {},
     "output_type": "execute_result"
    }
   ],
   "source": [
    "mu = ret_aapl.mean()[0]\n",
    "sigma = ret_aapl.std()[0]\n",
    "mu, sigma"
   ]
  },
  {
   "cell_type": "code",
   "execution_count": 98,
   "metadata": {},
   "outputs": [],
   "source": [
    "r = 0.00018/360 # Tasa diaria # Tasa de bonos de 1 yr de fecha 19/11/2021 -> 0.18%"
   ]
  },
  {
   "cell_type": "code",
   "execution_count": 99,
   "metadata": {},
   "outputs": [],
   "source": [
    "today = pd.to_datetime(date.today())\n",
    "expiry = '2022-09-16'\n",
    "\n",
    "dates = pd.date_range(start = today, \n",
    "                      end = expiry, \n",
    "                      freq = 'B')"
   ]
  },
  {
   "cell_type": "code",
   "execution_count": 100,
   "metadata": {},
   "outputs": [
    {
     "data": {
      "text/plain": [
       "DatetimeIndex(['2021-11-23', '2021-11-24', '2021-11-25', '2021-11-26',\n",
       "               '2021-11-29', '2021-11-30', '2021-12-01', '2021-12-02',\n",
       "               '2021-12-03', '2021-12-06',\n",
       "               ...\n",
       "               '2022-09-05', '2022-09-06', '2022-09-07', '2022-09-08',\n",
       "               '2022-09-09', '2022-09-12', '2022-09-13', '2022-09-14',\n",
       "               '2022-09-15', '2022-09-16'],\n",
       "              dtype='datetime64[ns]', length=214, freq='B')"
      ]
     },
     "execution_count": 100,
     "metadata": {},
     "output_type": "execute_result"
    }
   ],
   "source": [
    "ndays = len(dates)\n",
    "nscen = 10\n",
    "dates"
   ]
  },
  {
   "cell_type": "code",
   "execution_count": 101,
   "metadata": {},
   "outputs": [
    {
     "data": {
      "text/html": [
       "<div>\n",
       "<style scoped>\n",
       "    .dataframe tbody tr th:only-of-type {\n",
       "        vertical-align: middle;\n",
       "    }\n",
       "\n",
       "    .dataframe tbody tr th {\n",
       "        vertical-align: top;\n",
       "    }\n",
       "\n",
       "    .dataframe thead th {\n",
       "        text-align: right;\n",
       "    }\n",
       "</style>\n",
       "<table border=\"1\" class=\"dataframe\">\n",
       "  <thead>\n",
       "    <tr style=\"text-align: right;\">\n",
       "      <th></th>\n",
       "      <th>0</th>\n",
       "      <th>1</th>\n",
       "      <th>2</th>\n",
       "      <th>...</th>\n",
       "      <th>7</th>\n",
       "      <th>8</th>\n",
       "      <th>9</th>\n",
       "    </tr>\n",
       "  </thead>\n",
       "  <tbody>\n",
       "    <tr>\n",
       "      <th>2021-11-23</th>\n",
       "      <td>0.034</td>\n",
       "      <td>0.010</td>\n",
       "      <td>-0.023</td>\n",
       "      <td>...</td>\n",
       "      <td>-0.028</td>\n",
       "      <td>0.001</td>\n",
       "      <td>5.032e-04</td>\n",
       "    </tr>\n",
       "    <tr>\n",
       "      <th>2021-11-24</th>\n",
       "      <td>0.025</td>\n",
       "      <td>0.028</td>\n",
       "      <td>-0.036</td>\n",
       "      <td>...</td>\n",
       "      <td>0.005</td>\n",
       "      <td>0.021</td>\n",
       "      <td>3.640e-02</td>\n",
       "    </tr>\n",
       "    <tr>\n",
       "      <th>2021-11-25</th>\n",
       "      <td>-0.007</td>\n",
       "      <td>0.018</td>\n",
       "      <td>-0.023</td>\n",
       "      <td>...</td>\n",
       "      <td>0.019</td>\n",
       "      <td>0.026</td>\n",
       "      <td>2.867e-02</td>\n",
       "    </tr>\n",
       "    <tr>\n",
       "      <th>2021-11-26</th>\n",
       "      <td>-0.024</td>\n",
       "      <td>0.031</td>\n",
       "      <td>-0.029</td>\n",
       "      <td>...</td>\n",
       "      <td>0.030</td>\n",
       "      <td>0.032</td>\n",
       "      <td>-1.863e-03</td>\n",
       "    </tr>\n",
       "    <tr>\n",
       "      <th>2021-11-29</th>\n",
       "      <td>-0.039</td>\n",
       "      <td>0.053</td>\n",
       "      <td>-0.039</td>\n",
       "      <td>...</td>\n",
       "      <td>0.063</td>\n",
       "      <td>0.037</td>\n",
       "      <td>-1.318e-02</td>\n",
       "    </tr>\n",
       "  </tbody>\n",
       "</table>\n",
       "<p>5 rows × 10 columns</p>\n",
       "</div>"
      ],
      "text/plain": [
       "                0      1      2  ...      7      8          9\n",
       "2021-11-23  0.034  0.010 -0.023  ... -0.028  0.001  5.032e-04\n",
       "2021-11-24  0.025  0.028 -0.036  ...  0.005  0.021  3.640e-02\n",
       "2021-11-25 -0.007  0.018 -0.023  ...  0.019  0.026  2.867e-02\n",
       "2021-11-26 -0.024  0.031 -0.029  ...  0.030  0.032 -1.863e-03\n",
       "2021-11-29 -0.039  0.053 -0.039  ...  0.063  0.037 -1.318e-02\n",
       "\n",
       "[5 rows x 10 columns]"
      ]
     },
     "execution_count": 101,
     "metadata": {},
     "output_type": "execute_result"
    }
   ],
   "source": [
    "sim_ret = pd.DataFrame(sigma * np.random.randn(ndays,nscen) + r, \n",
    "                       index = dates)\n",
    "sim_ret.cumsum().head()"
   ]
  },
  {
   "cell_type": "code",
   "execution_count": 102,
   "metadata": {},
   "outputs": [
    {
     "data": {
      "text/html": [
       "<div>\n",
       "<style scoped>\n",
       "    .dataframe tbody tr th:only-of-type {\n",
       "        vertical-align: middle;\n",
       "    }\n",
       "\n",
       "    .dataframe tbody tr th {\n",
       "        vertical-align: top;\n",
       "    }\n",
       "\n",
       "    .dataframe thead th {\n",
       "        text-align: right;\n",
       "    }\n",
       "</style>\n",
       "<table border=\"1\" class=\"dataframe\">\n",
       "  <thead>\n",
       "    <tr style=\"text-align: right;\">\n",
       "      <th></th>\n",
       "      <th>0</th>\n",
       "      <th>1</th>\n",
       "      <th>2</th>\n",
       "      <th>...</th>\n",
       "      <th>7</th>\n",
       "      <th>8</th>\n",
       "      <th>9</th>\n",
       "    </tr>\n",
       "  </thead>\n",
       "  <tbody>\n",
       "    <tr>\n",
       "      <th>2021-11-23</th>\n",
       "      <td>167.074</td>\n",
       "      <td>163.079</td>\n",
       "      <td>157.748</td>\n",
       "      <td>...</td>\n",
       "      <td>156.996</td>\n",
       "      <td>161.587</td>\n",
       "      <td>161.491</td>\n",
       "    </tr>\n",
       "    <tr>\n",
       "      <th>2021-11-24</th>\n",
       "      <td>165.570</td>\n",
       "      <td>165.977</td>\n",
       "      <td>155.646</td>\n",
       "      <td>...</td>\n",
       "      <td>162.213</td>\n",
       "      <td>164.793</td>\n",
       "      <td>167.393</td>\n",
       "    </tr>\n",
       "    <tr>\n",
       "      <th>2021-11-25</th>\n",
       "      <td>160.353</td>\n",
       "      <td>164.410</td>\n",
       "      <td>157.810</td>\n",
       "      <td>...</td>\n",
       "      <td>164.442</td>\n",
       "      <td>165.646</td>\n",
       "      <td>166.104</td>\n",
       "    </tr>\n",
       "    <tr>\n",
       "      <th>2021-11-26</th>\n",
       "      <td>157.565</td>\n",
       "      <td>166.520</td>\n",
       "      <td>156.849</td>\n",
       "      <td>...</td>\n",
       "      <td>166.353</td>\n",
       "      <td>166.701</td>\n",
       "      <td>161.110</td>\n",
       "    </tr>\n",
       "    <tr>\n",
       "      <th>2021-11-29</th>\n",
       "      <td>155.264</td>\n",
       "      <td>170.175</td>\n",
       "      <td>155.170</td>\n",
       "      <td>...</td>\n",
       "      <td>171.930</td>\n",
       "      <td>167.507</td>\n",
       "      <td>159.297</td>\n",
       "    </tr>\n",
       "  </tbody>\n",
       "</table>\n",
       "<p>5 rows × 10 columns</p>\n",
       "</div>"
      ],
      "text/plain": [
       "                  0        1        2  ...        7        8        9\n",
       "2021-11-23  167.074  163.079  157.748  ...  156.996  161.587  161.491\n",
       "2021-11-24  165.570  165.977  155.646  ...  162.213  164.793  167.393\n",
       "2021-11-25  160.353  164.410  157.810  ...  164.442  165.646  166.104\n",
       "2021-11-26  157.565  166.520  156.849  ...  166.353  166.701  161.110\n",
       "2021-11-29  155.264  170.175  155.170  ...  171.930  167.507  159.297\n",
       "\n",
       "[5 rows x 10 columns]"
      ]
     },
     "execution_count": 102,
     "metadata": {},
     "output_type": "execute_result"
    }
   ],
   "source": [
    "so = closes_aapl.iloc[-1,0]  # Condición inicial del precio a simular\n",
    "sim_closes = so*np.exp(sim_ret.cumsum())\n",
    "sim_closes.head()"
   ]
  },
  {
   "cell_type": "code",
   "execution_count": 103,
   "metadata": {},
   "outputs": [
    {
     "data": {
      "image/png": "[encoded data removed]",
      "text/plain": [
       "<Figure size 576x432 with 1 Axes>"
      ]
     },
     "metadata": {
      "needs_background": "light"
     },
     "output_type": "display_data"
    }
   ],
   "source": [
    "# Precios simulados con los precios descargados\n",
    "pd.concat([closes_aapl,sim_closes]).plot(figsize = (8,6));"
   ]
  },
  {
   "cell_type": "code",
   "execution_count": 104,
   "metadata": {},
   "outputs": [],
   "source": [
    "Hoy = date.today()\n",
    "expiry = '2022-09-16'\n",
    "K = 160 # strike price\n",
    "nscen = 100000\n",
    "dates = pd.date_range(start= Hoy, \n",
    "                      periods = ndays)\n",
    "ndays = len(dates)\n",
    "S0 = closes_aapl.iloc[-1,0]  # Condición inicial del precio a simular\n",
    "\n",
    "# simular rendimientos\n",
    "sim_ret = pd.DataFrame(sigma * np.random.randn(ndays,nscen) + r,\n",
    "                       index = dates)\n",
    "\n",
    "# Simular precios\n",
    "sim_closes = S0*np.exp(sim_ret.cumsum())"
   ]
  },
  {
   "cell_type": "code",
   "execution_count": 112,
   "metadata": {},
   "outputs": [
    {
     "data": {
      "text/plain": [
       "Prima    22.36\n",
       "Name: 2022-06-24 00:00:00, dtype: float64"
      ]
     },
     "execution_count": 112,
     "metadata": {},
     "output_type": "execute_result"
    },
    {
     "data": {
      "image/png": "[encoded data removed]",
      "text/plain": [
       "<Figure size 432x288 with 1 Axes>"
      ]
     },
     "metadata": {
      "needs_background": "light"
     },
     "output_type": "display_data"
    }
   ],
   "source": [
    "strike = 160 # Valor del call \n",
    "call = pd.DataFrame({'Prima':np.exp(-r*ndays) \\\n",
    "              *np.fmax(sim_closes-strike, 0).mean(axis=1)}, \n",
    "                    index = dates)\n",
    "call.plot();\n",
    "call.iloc[-1]"
   ]
  },
  {
   "cell_type": "code",
   "execution_count": 113,
   "metadata": {},
   "outputs": [
    {
     "name": "stdout",
     "output_type": "stream",
     "text": [
      "(22.063839521930145, 22.655599549138405)\n",
      "(22.063843103192475, 22.655595967876074)\n"
     ]
    }
   ],
   "source": [
    "ic = 0.95\n",
    "sigma_est = sim_closes.iloc[-1].sem()\n",
    "mean_est = call.iloc[-1].Prima\n",
    "i1 = st.t.interval(ic,nscen-1, loc = mean_est, scale = sigma_est)\n",
    "i2 = st.norm.interval(ic, loc = mean_est, scale=sigma_est)\n",
    "print(i1)\n",
    "print(i2)"
   ]
  },
  {
   "cell_type": "code",
   "execution_count": 114,
   "metadata": {},
   "outputs": [],
   "source": [
    "vol = ret_aapl['AAPL'].std()*np.sqrt(252)\n",
    "media = ret_aapl['AAPL'].mean()*252\n",
    "maduracion = ndays\n",
    "st = closes_aapl.iloc[-1,0]\n",
    "rf = r*360"
   ]
  },
  {
   "cell_type": "code",
   "execution_count": 116,
   "metadata": {},
   "outputs": [
    {
     "name": "stdout",
     "output_type": "stream",
     "text": [
      "El valor de la opción con B&S es: 18.750530927256193\n",
      "Valor de la opción simulado es de: [22.35971954]\n"
     ]
    }
   ],
   "source": [
    "d1 = (np.log(st/K)+(rf+(vol**2)/2))/vol #Black Scholes\n",
    "d2 = d1-vol\n",
    "put = K*np.exp(-rf)*norm.cdf(-d2)-st*norm.cdf(-d1)\n",
    "print('El valor de la opción con B&S es:',put)\n",
    "print('Valor de la opción simulado es de:',call.iloc[-1].values)"
   ]
  },
  {
   "cell_type": "code",
   "execution_count": 119,
   "metadata": {},
   "outputs": [],
   "source": [
    "#put.iloc[-1]"
   ]
  },
  {
   "cell_type": "markdown",
   "metadata": {},
   "source": [
    "#### Solución estudiante 2"
   ]
  },
  {
   "cell_type": "code",
   "execution_count": 15,
   "metadata": {},
   "outputs": [],
   "source": [
    "# Librerías necesarias\n",
    "import pandas as pd\n",
    "import numpy as np\n",
    "import datetime\n",
    "import yfinance as yf\n",
    "import scipy.stats as st\n",
    "import matplotlib.pyplot as plt\n",
    "%matplotlib inline"
   ]
  },
  {
   "cell_type": "code",
   "execution_count": 36,
   "metadata": {},
   "outputs": [],
   "source": [
    "# Funciones necesarias\n",
    "def options_yf(ticker):\n",
    "    stock = yf.Ticker(ticker)\n",
    "    calls, puts = {}, {}\n",
    "    def options_yf_(n):\n",
    "        nonlocal stock\n",
    "        calls[stock.options[n]] = stock.option_chain(stock.options[n])[0]\n",
    "        puts[stock.options[n]] = stock.option_chain(stock.options[n])[1]\n",
    "    [options_yf_(n) for n in range(len(stock.options))]\n",
    "    return calls, puts\n",
    "\n",
    "def valuacionPut(ticker, fechaInicio, precioEjercicio, fechaExpiracion, rf, escenarios, \n",
    "                  metodo : \"Rendimientos simples, Rendimientos logarítmicos, Modelo Normal, Histograma\"):\n",
    "    precios = yf.download(ticker, start = fechaInicio, end = None, progress = False)[\"Adj Close\"]\n",
    "    precioInicial = precios.iloc[-1] # se descargan los precios\n",
    "    \n",
    "    #Metodos \n",
    "    if metodo == \"Rendimientos simples\":\n",
    "        rendimiento = precios.pct_change().dropna()\n",
    "        media = rendimiento.mean()\n",
    "        volatilidad = rendimiento.std()\n",
    "        \n",
    "    elif metodo == \"Rendimientos logarítmicos\":\n",
    "        rendimiento = np.log(precios / precios.shift(1)).dropna()\n",
    "        media = rendimiento.mean()\n",
    "        volatilidad = rendimiento.std()\n",
    "        \n",
    "    elif metodo == \"Modelo Normal\":\n",
    "        rendimiento = np.log(precios / precios.shift(1)).dropna()\n",
    "        volatilidad = rendimiento.std()\n",
    "        \n",
    "    else:\n",
    "        rendimiento = np.log(precios / precios.shift(1)).dropna()\n",
    "        media = rendimiento.mean()\n",
    "        volatilidad = rendimiento.std()\n",
    "\n",
    "    # Simulación de precios\n",
    "    fechas = pd.date_range(start = datetime.date.today(), end = fechaExpiracion, freq = \"B\") \n",
    "    dias = len(fechas)\n",
    "    \n",
    "    if metodo == \"Rendimientos simples\" or metodo == \"Rendimientos logarítmicos\":\n",
    "        Z = np.random.randn(dias, escenarios)\n",
    "        rendimientosSimulados = pd.DataFrame(media + Z * volatilidad, index = fechas)\n",
    "        \n",
    "        if metodo == \"Rendimientos simples\":\n",
    "            preciosSimulados = precioInicial * (rendimientosSimulados + 1).cumprod()\n",
    "            preciosSimulados.iloc[0, :] = precioInicial \n",
    "    \n",
    "        else:\n",
    "            preciosSimulados = precioInicial * np.exp(rendimientosSimulados.cumsum())\n",
    "            preciosSimulados.iloc[0, :] = precioInicial \n",
    "        \n",
    "    elif metodo == \"Modelo Normal\":\n",
    "        Z = np.random.randn(dias, escenarios)\n",
    "        rendimientosSimulados = pd.DataFrame(volatilidad * Z + rf, index = fechas)\n",
    "        preciosSimulados = precioInicial * np.exp(rendimientosSimulados.cumsum())\n",
    "        preciosSimulados.iloc[0, :] = precioInicial\n",
    "        \n",
    "    else:\n",
    "        y, x = np.histogram(rendimiento + rf - media, bins = 2000)\n",
    "        y = y / np.sum(y)\n",
    "        rendimientosSimulados_ = np.random.choice(x[1:], dias * escenarios, p = y)\n",
    "        rendimientosSimulados = pd.DataFrame(rendimientosSimulados_.reshape((dias, escenarios)), index = fechas)\n",
    "        preciosSimulados = precioInicial * np.exp(rendimientosSimulados.cumsum())\n",
    "        \n",
    "    # Valuación\n",
    "    if metodo == \"Simple\" or metodo == \"Logarítmico\":\n",
    "        put = pd.DataFrame({\"Prima\" : np.exp(-media * dias) * np.fmax(precioEjercicio - preciosSimulados, 0).mean(axis = 1)}, \n",
    "                           index = fechas) \n",
    "    else:\n",
    "        put = pd.DataFrame({\"Prima\" : np.exp(-rf * dias) * np.fmax(precioEjercicio - preciosSimulados, 0).mean(axis = 1)}, \n",
    "                           index = fechas) \n",
    "    \n",
    "    intervaloConfianza = st.norm.interval(0.99, loc = put.iloc[-1].values[0], scale = st.sem(preciosSimulados.iloc[-1]))\n",
    "    \n",
    "    # Resultados\n",
    "    put.plot(figsize = (8, 5), title = metodo)\n",
    "        \n",
    "    return put.iloc[-1].values[0], intervaloConfianza[0], intervaloConfianza[1]"
   ]
  },
  {
   "cell_type": "code",
   "execution_count": 38,
   "metadata": {},
   "outputs": [],
   "source": [
    "def blackScholesPut(ticker, fechaInicio, precioEjercicio, fechaExpiracion, rf):\n",
    "    # Descarga de precios de cierre históricos para la acción\n",
    "    precios = yf.download(ticker, start = fechaInicio, end = None, progress = False)[\"Adj Close\"]\n",
    "    precioInicial = precios.iloc[-1]\n",
    "    \n",
    "    # Rendimientos logarítmicos\n",
    "    rendimiento = np.log(precios / precios.shift(1)).dropna()\n",
    "    volatilidad = rendimiento.std()\n",
    "    \n",
    "    # Black and Scholes\n",
    "    t = len(pd.date_range(start = datetime.date.today(), end = fechaExpiracion, freq = \"B\"))\n",
    "    \n",
    "    d1 = (np.log(precioInicial / precioEjercicio) + (rf + 0.5 * volatilidad ** 2) * t) / (volatilidad * np.sqrt(t))\n",
    "    d2 = (np.log(precioInicial / precioEjercicio) + (rf - 0.5 * volatilidad ** 2) * t) / (volatilidad * np.sqrt(t))\n",
    "    return precioEjercicio * np.exp(-rf * t) * st.norm.cdf(-d2)  - precioInicial * st.norm.cdf(-d1) "
   ]
  },
  {
   "cell_type": "code",
   "execution_count": 39,
   "metadata": {},
   "outputs": [
    {
     "data": {
      "text/html": [
       "<div>\n",
       "<style scoped>\n",
       "    .dataframe tbody tr th:only-of-type {\n",
       "        vertical-align: middle;\n",
       "    }\n",
       "\n",
       "    .dataframe tbody tr th {\n",
       "        vertical-align: top;\n",
       "    }\n",
       "\n",
       "    .dataframe thead th {\n",
       "        text-align: right;\n",
       "    }\n",
       "</style>\n",
       "<table border=\"1\" class=\"dataframe\">\n",
       "  <thead>\n",
       "    <tr style=\"text-align: right;\">\n",
       "      <th></th>\n",
       "      <th>contractSymbol</th>\n",
       "      <th>lastTradeDate</th>\n",
       "      <th>strike</th>\n",
       "      <th>...</th>\n",
       "      <th>inTheMoney</th>\n",
       "      <th>contractSize</th>\n",
       "      <th>currency</th>\n",
       "    </tr>\n",
       "  </thead>\n",
       "  <tbody>\n",
       "    <tr>\n",
       "      <th>53</th>\n",
       "      <td>MSFT220121P00335000</td>\n",
       "      <td>2021-11-23 20:57:57</td>\n",
       "      <td>335.0</td>\n",
       "      <td>...</td>\n",
       "      <td>False</td>\n",
       "      <td>REGULAR</td>\n",
       "      <td>USD</td>\n",
       "    </tr>\n",
       "    <tr>\n",
       "      <th>54</th>\n",
       "      <td>MSFT220121P00340000</td>\n",
       "      <td>2021-11-23 20:44:05</td>\n",
       "      <td>340.0</td>\n",
       "      <td>...</td>\n",
       "      <td>True</td>\n",
       "      <td>REGULAR</td>\n",
       "      <td>USD</td>\n",
       "    </tr>\n",
       "    <tr>\n",
       "      <th>55</th>\n",
       "      <td>MSFT220121P00345000</td>\n",
       "      <td>2021-11-23 20:59:18</td>\n",
       "      <td>345.0</td>\n",
       "      <td>...</td>\n",
       "      <td>True</td>\n",
       "      <td>REGULAR</td>\n",
       "      <td>USD</td>\n",
       "    </tr>\n",
       "    <tr>\n",
       "      <th>56</th>\n",
       "      <td>MSFT220121P00350000</td>\n",
       "      <td>2021-11-23 20:57:49</td>\n",
       "      <td>350.0</td>\n",
       "      <td>...</td>\n",
       "      <td>True</td>\n",
       "      <td>REGULAR</td>\n",
       "      <td>USD</td>\n",
       "    </tr>\n",
       "    <tr>\n",
       "      <th>57</th>\n",
       "      <td>MSFT220121P00355000</td>\n",
       "      <td>2021-11-23 20:59:05</td>\n",
       "      <td>355.0</td>\n",
       "      <td>...</td>\n",
       "      <td>True</td>\n",
       "      <td>REGULAR</td>\n",
       "      <td>USD</td>\n",
       "    </tr>\n",
       "    <tr>\n",
       "      <th>58</th>\n",
       "      <td>MSFT220121P00360000</td>\n",
       "      <td>2021-11-23 19:01:43</td>\n",
       "      <td>360.0</td>\n",
       "      <td>...</td>\n",
       "      <td>True</td>\n",
       "      <td>REGULAR</td>\n",
       "      <td>USD</td>\n",
       "    </tr>\n",
       "    <tr>\n",
       "      <th>59</th>\n",
       "      <td>MSFT220121P00365000</td>\n",
       "      <td>2021-11-23 16:45:11</td>\n",
       "      <td>365.0</td>\n",
       "      <td>...</td>\n",
       "      <td>True</td>\n",
       "      <td>REGULAR</td>\n",
       "      <td>USD</td>\n",
       "    </tr>\n",
       "    <tr>\n",
       "      <th>60</th>\n",
       "      <td>MSFT220121P00370000</td>\n",
       "      <td>2021-11-23 19:57:41</td>\n",
       "      <td>370.0</td>\n",
       "      <td>...</td>\n",
       "      <td>True</td>\n",
       "      <td>REGULAR</td>\n",
       "      <td>USD</td>\n",
       "    </tr>\n",
       "    <tr>\n",
       "      <th>61</th>\n",
       "      <td>MSFT220121P00375000</td>\n",
       "      <td>2021-11-23 15:02:15</td>\n",
       "      <td>375.0</td>\n",
       "      <td>...</td>\n",
       "      <td>True</td>\n",
       "      <td>REGULAR</td>\n",
       "      <td>USD</td>\n",
       "    </tr>\n",
       "  </tbody>\n",
       "</table>\n",
       "<p>9 rows × 14 columns</p>\n",
       "</div>"
      ],
      "text/plain": [
       "         contractSymbol       lastTradeDate  strike  ...  inTheMoney  \\\n",
       "53  MSFT220121P00335000 2021-11-23 20:57:57   335.0  ...       False   \n",
       "54  MSFT220121P00340000 2021-11-23 20:44:05   340.0  ...        True   \n",
       "55  MSFT220121P00345000 2021-11-23 20:59:18   345.0  ...        True   \n",
       "56  MSFT220121P00350000 2021-11-23 20:57:49   350.0  ...        True   \n",
       "57  MSFT220121P00355000 2021-11-23 20:59:05   355.0  ...        True   \n",
       "58  MSFT220121P00360000 2021-11-23 19:01:43   360.0  ...        True   \n",
       "59  MSFT220121P00365000 2021-11-23 16:45:11   365.0  ...        True   \n",
       "60  MSFT220121P00370000 2021-11-23 19:57:41   370.0  ...        True   \n",
       "61  MSFT220121P00375000 2021-11-23 15:02:15   375.0  ...        True   \n",
       "\n",
       "    contractSize  currency  \n",
       "53       REGULAR       USD  \n",
       "54       REGULAR       USD  \n",
       "55       REGULAR       USD  \n",
       "56       REGULAR       USD  \n",
       "57       REGULAR       USD  \n",
       "58       REGULAR       USD  \n",
       "59       REGULAR       USD  \n",
       "60       REGULAR       USD  \n",
       "61       REGULAR       USD  \n",
       "\n",
       "[9 rows x 14 columns]"
      ]
     },
     "execution_count": 39,
     "metadata": {},
     "output_type": "execute_result"
    }
   ],
   "source": [
    "ticker = \"MSFT\"\n",
    "fechaExpiracion = \"2022-01-21\"\n",
    "calls , puts = options_yf(ticker)\n",
    "puts = puts[fechaExpiracion][(puts[fechaExpiracion][\"strike\"] >= 335) & (puts[fechaExpiracion][\"strike\"] <= 375)]\n",
    "puts"
   ]
  },
  {
   "cell_type": "code",
   "execution_count": 44,
   "metadata": {},
   "outputs": [
    {
     "data": {
      "text/html": [
       "<div>\n",
       "<style scoped>\n",
       "    .dataframe tbody tr th:only-of-type {\n",
       "        vertical-align: middle;\n",
       "    }\n",
       "\n",
       "    .dataframe tbody tr th {\n",
       "        vertical-align: top;\n",
       "    }\n",
       "\n",
       "    .dataframe thead th {\n",
       "        text-align: right;\n",
       "    }\n",
       "</style>\n",
       "<table border=\"1\" class=\"dataframe\">\n",
       "  <thead>\n",
       "    <tr style=\"text-align: right;\">\n",
       "      <th></th>\n",
       "      <th>Prima Real</th>\n",
       "      <th>Prima Teórica B&amp;S</th>\n",
       "      <th>% Error relativo (prima real)</th>\n",
       "    </tr>\n",
       "  </thead>\n",
       "  <tbody>\n",
       "    <tr>\n",
       "      <th>K = 350.0 2022-01-21</th>\n",
       "      <td>19.0</td>\n",
       "      <td>22.152</td>\n",
       "      <td>16.59</td>\n",
       "    </tr>\n",
       "  </tbody>\n",
       "</table>\n",
       "</div>"
      ],
      "text/plain": [
       "                      Prima Real  Prima Teórica B&S  \\\n",
       "K = 350.0 2022-01-21        19.0             22.152   \n",
       "\n",
       "                      % Error relativo (prima real)  \n",
       "K = 350.0 2022-01-21                          16.59  "
      ]
     },
     "execution_count": 44,
     "metadata": {},
     "output_type": "execute_result"
    }
   ],
   "source": [
    "# Modelo de Black & Scholes\n",
    "fechaInicio = \"2015-11-15\" \n",
    "indicePut = 56\n",
    "precioEjercicio = puts.loc[indicePut].strike \n",
    "rf = 0.0018 / 360 \n",
    "N = 10000 \n",
    "primaReal = puts.loc[indicePut].lastPrice \n",
    "primaTeorica = blackScholesPut(ticker, fechaInicio, precioEjercicio, fechaExpiracion, rf)\n",
    "resultados = pd.DataFrame({\"Prima Real\" : primaReal, \"Prima Teórica B&S\" : primaTeorica}, \n",
    "                         index = [\"K = \" + str(precioEjercicio)+ \" \" + fechaExpiracion])\n",
    "\n",
    "resultados[\"% Error relativo (prima real)\"] = np.round(abs(primaTeorica - primaReal) / primaReal * 100, 2)\n",
    "resultados"
   ]
  },
  {
   "cell_type": "code",
   "execution_count": 41,
   "metadata": {},
   "outputs": [
    {
     "data": {
      "text/html": [
       "<div>\n",
       "<style scoped>\n",
       "    .dataframe tbody tr th:only-of-type {\n",
       "        vertical-align: middle;\n",
       "    }\n",
       "\n",
       "    .dataframe tbody tr th {\n",
       "        vertical-align: top;\n",
       "    }\n",
       "\n",
       "    .dataframe thead th {\n",
       "        text-align: right;\n",
       "    }\n",
       "</style>\n",
       "<table border=\"1\" class=\"dataframe\">\n",
       "  <thead>\n",
       "    <tr style=\"text-align: right;\">\n",
       "      <th></th>\n",
       "      <th>Prima</th>\n",
       "      <th>Límite inferior (99% confianza)</th>\n",
       "      <th>Límite superior (99% confianza)</th>\n",
       "      <th>% Error relativo (prima real)</th>\n",
       "      <th>% Error relativo (prima teórica B&amp;S)</th>\n",
       "    </tr>\n",
       "  </thead>\n",
       "  <tbody>\n",
       "    <tr>\n",
       "      <th>Rendimientos simples</th>\n",
       "      <td>11.417</td>\n",
       "      <td>10.394</td>\n",
       "      <td>12.440</td>\n",
       "      <td>39.91</td>\n",
       "      <td>48.46</td>\n",
       "    </tr>\n",
       "    <tr>\n",
       "      <th>Rendimientos logarítmicos</th>\n",
       "      <td>11.397</td>\n",
       "      <td>10.353</td>\n",
       "      <td>12.441</td>\n",
       "      <td>40.02</td>\n",
       "      <td>48.55</td>\n",
       "    </tr>\n",
       "    <tr>\n",
       "      <th>Modelo Normal</th>\n",
       "      <td>21.007</td>\n",
       "      <td>20.034</td>\n",
       "      <td>21.981</td>\n",
       "      <td>10.56</td>\n",
       "      <td>5.17</td>\n",
       "    </tr>\n",
       "    <tr>\n",
       "      <th>Histograma</th>\n",
       "      <td>20.309</td>\n",
       "      <td>19.331</td>\n",
       "      <td>21.286</td>\n",
       "      <td>6.89</td>\n",
       "      <td>8.32</td>\n",
       "    </tr>\n",
       "  </tbody>\n",
       "</table>\n",
       "</div>"
      ],
      "text/plain": [
       "                            Prima  Límite inferior (99% confianza)  \\\n",
       "Rendimientos simples       11.417                           10.394   \n",
       "Rendimientos logarítmicos  11.397                           10.353   \n",
       "Modelo Normal              21.007                           20.034   \n",
       "Histograma                 20.309                           19.331   \n",
       "\n",
       "                           Límite superior (99% confianza)  \\\n",
       "Rendimientos simples                                12.440   \n",
       "Rendimientos logarítmicos                           12.441   \n",
       "Modelo Normal                                       21.981   \n",
       "Histograma                                          21.286   \n",
       "\n",
       "                           % Error relativo (prima real)  \\\n",
       "Rendimientos simples                               39.91   \n",
       "Rendimientos logarítmicos                          40.02   \n",
       "Modelo Normal                                      10.56   \n",
       "Histograma                                          6.89   \n",
       "\n",
       "                           % Error relativo (prima teórica B&S)  \n",
       "Rendimientos simples                                      48.46  \n",
       "Rendimientos logarítmicos                                 48.55  \n",
       "Modelo Normal                                              5.17  \n",
       "Histograma                                                 8.32  "
      ]
     },
     "execution_count": 41,
     "metadata": {},
     "output_type": "execute_result"
    },
    {
     "data": {
      "image/png": "[encoded data removed]",
      "text/plain": [
       "<Figure size 576x360 with 1 Axes>"
      ]
     },
     "metadata": {
      "needs_background": "light"
     },
     "output_type": "display_data"
    },
    {
     "data": {
      "image/png": "[encoded data removed]",
      "text/plain": [
       "<Figure size 576x360 with 1 Axes>"
      ]
     },
     "metadata": {
      "needs_background": "light"
     },
     "output_type": "display_data"
    },
    {
     "data": {
      "image/png": "[encoded data removed]",
      "text/plain": [
       "<Figure size 576x360 with 1 Axes>"
      ]
     },
     "metadata": {
      "needs_background": "light"
     },
     "output_type": "display_data"
    },
    {
     "data": {
      "image/png": "[encoded data removed]",
      "text/plain": [
       "<Figure size 576x360 with 1 Axes>"
      ]
     },
     "metadata": {
      "needs_background": "light"
     },
     "output_type": "display_data"
    }
   ],
   "source": [
    "metodos = [\"Rendimientos simples\", \"Rendimientos logarítmicos\", \"Modelo Normal\", \"Histograma\"]\n",
    "comparacion = pd.DataFrame([valuacionPut(ticker, fechaInicio, precioEjercicio, fechaExpiracion, rf, N, metodo) \n",
    "                       for metodo in metodos],\n",
    "                       columns = [\"Prima\", \"Límite inferior (99% confianza)\", \"Límite superior (99% confianza)\"], \n",
    "                       index = metodos)\n",
    "\n",
    "comparacion[\"% Error relativo (prima real)\"] = np.round(abs(comparacion[\"Prima\"] - primaReal) / primaReal * 100, 2)\n",
    "comparacion[\"% Error relativo (prima teórica B&S)\"] = np.round(abs(comparacion[\"Prima\"] - primaTeorica) / primaTeorica * 100, 2)\n",
    "comparacion"
   ]
  },
  {
   "cell_type": "markdown",
   "metadata": {},
   "source": [
    "El Modelo Normal y el histograma tienen un mejor rendimiento ya que tienen un error relativo más bajo"
   ]
  },
  {
   "cell_type": "code",
   "execution_count": null,
   "metadata": {},
   "outputs": [],
   "source": []
  }
 ],
 "metadata": {
  "kernelspec": {
   "display_name": "Python 3",
   "language": "python",
   "name": "python3"
  },
  "language_info": {
   "codemirror_mode": {
    "name": "ipython",
    "version": 3
   },
   "file_extension": ".py",
   "mimetype": "text/x-python",
   "name": "python",
   "nbconvert_exporter": "python",
   "pygments_lexer": "ipython3",
   "version": "3.8.8"
  }
 },
 "nbformat": 4,
 "nbformat_minor": 2
}
